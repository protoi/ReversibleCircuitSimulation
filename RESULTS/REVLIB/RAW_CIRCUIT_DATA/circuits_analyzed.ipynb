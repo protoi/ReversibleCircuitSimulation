{
 "cells": [
  {
   "cell_type": "code",
   "execution_count": 1,
   "outputs": [],
   "source": [
    "results = [\n",
    "    {\n",
    "        \"name\": \"cycle10_2\",\n",
    "        \"lines\": 12,\n",
    "        \"gates\": 19,\n",
    "        \"our\": {\n",
    "            \"size\": 16,\n",
    "            \"coverage\": 100\n",
    "        },\n",
    "        \"their\": {\n",
    "            \"size\": 2,\n",
    "            \"coverage\": 100\n",
    "        }\n",
    "    },\n",
    "    {\n",
    "        \"name\": \"4gt12-v0_86\",\n",
    "        \"lines\": 5,\n",
    "        \"gates\": 14,\n",
    "        \"our\": {\n",
    "            \"size\": 5,\n",
    "            \"coverage\": 100\n",
    "        },\n",
    "        \"their\": {\n",
    "            \"size\": 3,\n",
    "            \"coverage\": 100\n",
    "        }\n",
    "    },\n",
    "    {\n",
    "        \"name\": \"rd53\",\n",
    "        \"lines\": 7,\n",
    "        \"gates\": 28,\n",
    "        \"our\": {\n",
    "            \"size\": 8,\n",
    "            \"coverage\": 100\n",
    "        },\n",
    "        \"their\": {\n",
    "            \"size\": 5,\n",
    "            \"coverage\": 100\n",
    "        }\n",
    "    },\n",
    "    {\n",
    "        \"name\": \"mux_246\",\n",
    "        \"lines\": 22,\n",
    "        \"gates\": 35,\n",
    "        \"our\": {\n",
    "            \"size\": 6,\n",
    "            \"coverage\": 100\n",
    "        },\n",
    "        \"their\": {\n",
    "            \"size\": 2,\n",
    "            \"coverage\": 25.95\n",
    "        }\n",
    "    }\n",
    "]"
   ],
   "metadata": {
    "collapsed": false,
    "ExecuteTime": {
     "start_time": "2023-05-17T13:56:16.644427Z",
     "end_time": "2023-05-17T13:56:16.653727Z"
    }
   }
  },
  {
   "cell_type": "code",
   "execution_count": 3,
   "outputs": [
    {
     "data": {
      "text/plain": "[{'name': 'cycle10_2',\n  'lines': 12,\n  'gates': 19,\n  'our': {'size': 16, 'coverage': 100},\n  'their': {'size': 2, 'coverage': 100}},\n {'name': '4gt12-v0_86',\n  'lines': 5,\n  'gates': 14,\n  'our': {'size': 5, 'coverage': 100},\n  'their': {'size': 3, 'coverage': 100}},\n {'name': 'rd53',\n  'lines': 7,\n  'gates': 28,\n  'our': {'size': 8, 'coverage': 100},\n  'their': {'size': 5, 'coverage': 100}},\n {'name': 'mux_246',\n  'lines': 22,\n  'gates': 35,\n  'our': {'size': 6, 'coverage': 100},\n  'their': {'size': 2, 'coverage': 25.95}}]"
     },
     "execution_count": 3,
     "metadata": {},
     "output_type": "execute_result"
    }
   ],
   "source": [
    "results"
   ],
   "metadata": {
    "collapsed": false,
    "ExecuteTime": {
     "start_time": "2023-05-17T13:56:23.350795Z",
     "end_time": "2023-05-17T13:56:23.366795Z"
    }
   }
  }
 ],
 "metadata": {
  "kernelspec": {
   "display_name": "Python 3",
   "language": "python",
   "name": "python3"
  },
  "language_info": {
   "codemirror_mode": {
    "name": "ipython",
    "version": 2
   },
   "file_extension": ".py",
   "mimetype": "text/x-python",
   "name": "python",
   "nbconvert_exporter": "python",
   "pygments_lexer": "ipython2",
   "version": "2.7.6"
  }
 },
 "nbformat": 4,
 "nbformat_minor": 0
}
