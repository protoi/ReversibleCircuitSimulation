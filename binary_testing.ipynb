{
 "cells": [
  {
   "cell_type": "code",
   "execution_count": 11,
   "outputs": [],
   "source": [
    "target = 0b00001000\n",
    "inverted_target = 0b11111110\n",
    "gate = 0b10101100\n",
    "inp = 0b11101100"
   ],
   "metadata": {
    "collapsed": false
   }
  },
  {
   "cell_type": "code",
   "execution_count": 12,
   "outputs": [],
   "source": [
    "display = lambda a, x: print(f\"{a:#0{x}b}\")"
   ],
   "metadata": {
    "collapsed": false
   }
  },
  {
   "cell_type": "code",
   "execution_count": 13,
   "outputs": [
    {
     "name": "stdout",
     "output_type": "stream",
     "text": [
      "0b0000000001000\n",
      "0b0000011101100\n",
      "0b0000011101100\n"
     ]
    }
   ],
   "source": [
    "masked_input = inverted_target & inp\n",
    "display(target, 15)\n",
    "display(inp, 15)\n",
    "display(masked_input, 15)"
   ],
   "metadata": {
    "collapsed": false
   }
  },
  {
   "cell_type": "code",
   "execution_count": 14,
   "outputs": [
    {
     "name": "stdout",
     "output_type": "stream",
     "text": [
      "inverted\n"
     ]
    }
   ],
   "source": [
    "viable_input = (masked_input & gate)\n",
    "\n",
    "if viable_input == gate:\n",
    "    print(\"inverted\")\n",
    "else:\n",
    "    print(\"constant\")"
   ],
   "metadata": {
    "collapsed": false
   }
  },
  {
   "cell_type": "code",
   "execution_count": 15,
   "outputs": [
    {
     "ename": "TypeError",
     "evalue": "<lambda>() missing 1 required positional argument: 'x'",
     "output_type": "error",
     "traceback": [
      "\u001B[1;31m---------------------------------------------------------------------------\u001B[0m",
      "\u001B[1;31mTypeError\u001B[0m                                 Traceback (most recent call last)",
      "Cell \u001B[1;32mIn[15], line 1\u001B[0m\n\u001B[1;32m----> 1\u001B[0m \u001B[43mdisplay\u001B[49m\u001B[43m(\u001B[49m\u001B[43minp\u001B[49m\u001B[43m \u001B[49m\u001B[38;5;241;43m^\u001B[39;49m\u001B[43m \u001B[49m\u001B[43mtarget\u001B[49m\u001B[43m)\u001B[49m\n",
      "\u001B[1;31mTypeError\u001B[0m: <lambda>() missing 1 required positional argument: 'x'"
     ]
    }
   ],
   "source": [
    "display(inp ^ target)"
   ],
   "metadata": {
    "collapsed": false
   }
  },
  {
   "cell_type": "code",
   "execution_count": null,
   "outputs": [],
   "source": [
    "def invertor(num, noofbits):\n",
    "    temp = 2 ** (noofbits + 1) - 1\n",
    "    return temp ^ num\n",
    "\n",
    "\n",
    "ans = invertor(0b00001, 5)\n",
    "print(bin(ans))\n",
    "# print(invertor(0b00001, 5))"
   ],
   "metadata": {
    "collapsed": false
   }
  },
  {
   "cell_type": "code",
   "execution_count": null,
   "outputs": [],
   "source": [
    "current_input = 0b10101010\n",
    "gates = 0b00001111\n",
    "\n",
    "A = current_input << 1\n",
    "B = A << 1\n",
    "C = B << 1\n",
    "D = C << 1\n",
    "\n",
    "print(f'''\n",
    "{bin(A)}\n",
    "{bin(B)}\n",
    "{bin(C)}\n",
    "{bin(D)}\n",
    "''')"
   ],
   "metadata": {
    "collapsed": false
   }
  },
  {
   "cell_type": "code",
   "execution_count": null,
   "outputs": [],
   "source": [
    "import matplotlib.pyplot as plt"
   ],
   "metadata": {
    "collapsed": false
   }
  },
  {
   "cell_type": "code",
   "execution_count": null,
   "outputs": [],
   "source": [
    "data =  [{'target': 0b001, 'controls': 0b110},  # 010, 100 -> fault #6 & 7\n",
    "              {'target': 0b001, 'controls': 0b010},  # 010 -> fault #8\n",
    "              {'target': 0b001, 'controls': 0b100},  # 100 -> fault #9\n",
    "              {'target': 0b100, 'controls': 0b011},  # 001, 010 -> fault 10,11\n",
    "              {'target': 0b100, 'controls': 0b001}]"
   ],
   "metadata": {
    "collapsed": false
   }
  },
  {
   "cell_type": "code",
   "execution_count": null,
   "outputs": [],
   "source": [
    "# controls = [[] for _ in range(len(data))]\n",
    "controls_x = []\n",
    "controls_y = []\n",
    "targets_x = [0 for _ in range(len(data))]\n",
    "for index, gate in enumerate(data):\n",
    "    cont = gate['controls']\n",
    "    targ = gate['target']\n",
    "    # controls\n",
    "    # temp_list = []\n",
    "    no_of_bits = 1\n",
    "    while cont != 0:\n",
    "        if (cont & 0b1) == 1:\n",
    "            controls_x.append(no_of_bits)\n",
    "            controls_y.append(index+1)\n",
    "        no_of_bits += 1\n",
    "        cont = cont >> 1\n",
    "    # controls[index] = temp_list\n",
    "\n",
    "    # target\n",
    "    no_of_bits = 1\n",
    "    while targ != 0:\n",
    "        if (targ & 0b1) == 1:\n",
    "            targets_x[index] = no_of_bits\n",
    "            break\n",
    "        no_of_bits += 1\n",
    "        targ = targ >> 1\n",
    "\n",
    "\n",
    "print(controls_x)\n",
    "print(targets_x)"
   ],
   "metadata": {
    "collapsed": false
   }
  },
  {
   "cell_type": "code",
   "execution_count": null,
   "outputs": [],
   "source": [
    "no_of_gates = len(data)\n",
    "size_of_input = 3\n",
    "[plt.axvline(x=i+1, linestyle='-') for i in range(0, no_of_gates)]\n",
    "[plt.axhline(y=i+1, linestyle='-') for i in range(0, size_of_input)]\n",
    "\n",
    "plt.scatter(controls_y, controls_x, s = 300)\n",
    "plt.scatter(range(1,no_of_gates+1), targets_x, s = 500, marker = \"o\")\n",
    "\n",
    "\n",
    "plt.yticks(range(1, size_of_input + 1))\n",
    "plt.xticks(range(1, no_of_gates + 1))\n",
    "\n",
    "plt.show()"
   ],
   "metadata": {
    "collapsed": false
   }
  }
 ],
 "metadata": {
  "kernelspec": {
   "display_name": "Python 3",
   "language": "python",
   "name": "python3"
  },
  "language_info": {
   "codemirror_mode": {
    "name": "ipython",
    "version": 2
   },
   "file_extension": ".py",
   "mimetype": "text/x-python",
   "name": "python",
   "nbconvert_exporter": "python",
   "pygments_lexer": "ipython2",
   "version": "2.7.6"
  }
 },
 "nbformat": 4,
 "nbformat_minor": 0
}
