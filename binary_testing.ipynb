{
 "cells": [
  {
   "cell_type": "code",
   "execution_count": null,
   "outputs": [],
   "source": [
    "target = 0b00001000\n",
    "inverted_target = 0b11111110\n",
    "gate = 0b10101100\n",
    "inp = 0b11101100"
   ],
   "metadata": {
    "collapsed": false
   }
  },
  {
   "cell_type": "code",
   "execution_count": null,
   "outputs": [],
   "source": [
    "display = lambda a, x: print(f\"{a:#0{x}b}\")"
   ],
   "metadata": {
    "collapsed": false
   }
  },
  {
   "cell_type": "code",
   "execution_count": null,
   "outputs": [],
   "source": [
    "masked_input = inverted_target & inp\n",
    "display(target, 15)\n",
    "display(inp, 15)\n",
    "display(masked_input, 15)"
   ],
   "metadata": {
    "collapsed": false
   }
  },
  {
   "cell_type": "code",
   "execution_count": null,
   "outputs": [],
   "source": [
    "viable_input = (masked_input & gate)\n",
    "\n",
    "if viable_input == gate:\n",
    "    print(\"inverted\")\n",
    "else:\n",
    "    print(\"constant\")"
   ],
   "metadata": {
    "collapsed": false
   }
  },
  {
   "cell_type": "code",
   "execution_count": null,
   "outputs": [],
   "source": [
    "display(inp ^ target)"
   ],
   "metadata": {
    "collapsed": false
   }
  },
  {
   "cell_type": "code",
   "execution_count": 9,
   "outputs": [
    {
     "name": "stdout",
     "output_type": "stream",
     "text": [
      "0b111110\n"
     ]
    }
   ],
   "source": [
    "def invertor(num, noofbits):\n",
    "    temp = 2 ** (noofbits + 1) - 1\n",
    "    return temp ^ num\n",
    "\n",
    "ans = invertor(0b00001, 5)\n",
    "print(bin(ans))\n",
    "# print(invertor(0b00001, 5))"
   ],
   "metadata": {
    "collapsed": false
   }
  },
  {
   "cell_type": "code",
   "execution_count": 21,
   "outputs": [
    {
     "name": "stdout",
     "output_type": "stream",
     "text": [
      "\n",
      "0b101010100\n",
      "0b1010101000\n",
      "0b10101010000\n",
      "0b101010100000\n",
      "\n"
     ]
    }
   ],
   "source": [
    "current_input = 0b10101010\n",
    "gates = 0b00001111\n",
    "\n",
    "A = current_input << 1\n",
    "B = A << 1\n",
    "C = B << 1\n",
    "D = C << 1\n",
    "\n",
    "print(f'''\n",
    "{bin(A)}\n",
    "{bin(B)}\n",
    "{bin(C)}\n",
    "{bin(D)}\n",
    "''')"
   ],
   "metadata": {
    "collapsed": false
   }
  }
 ],
 "metadata": {
  "kernelspec": {
   "display_name": "Python 3",
   "language": "python",
   "name": "python3"
  },
  "language_info": {
   "codemirror_mode": {
    "name": "ipython",
    "version": 2
   },
   "file_extension": ".py",
   "mimetype": "text/x-python",
   "name": "python",
   "nbconvert_exporter": "python",
   "pygments_lexer": "ipython2",
   "version": "2.7.6"
  }
 },
 "nbformat": 4,
 "nbformat_minor": 0
}
